{
 "cells": [
  {
   "cell_type": "code",
   "execution_count": 50,
   "id": "78a80088",
   "metadata": {
    "ExecuteTime": {
     "end_time": "2021-07-16T00:06:10.437671Z",
     "start_time": "2021-07-16T00:06:10.431075Z"
    }
   },
   "outputs": [],
   "source": [
    "import numpy as np\n",
    "import random\n",
    "import os\n",
    "from sklearn.model_selection import train_test_split\n",
    "from sklearn.preprocessing import LabelBinarizer\n",
    "from sklearn.utils import shuffle\n",
    "from sklearn.preprocessing import StandardScaler\n",
    "from sklearn.preprocessing import OneHotEncoder\n",
    "from sklearn.preprocessing import OrdinalEncoder\n",
    "\n",
    "import tensorflow as tf\n",
    "from tensorflow.keras.models import Sequential\n",
    "from tensorflow.keras.layers import Conv2D\n",
    "from tensorflow.keras.layers import MaxPooling2D\n",
    "from tensorflow.keras.layers import Activation\n",
    "from tensorflow.keras.layers import Flatten\n",
    "from tensorflow.keras.layers import Dense\n",
    "from tensorflow.keras.optimizers import SGD\n",
    "from tensorflow.keras import backend as K\n",
    "from tensorflow import keras\n",
    "from tensorflow.keras.models import Sequential\n",
    "from tensorflow.keras.layers import Activation, Dense, BatchNormalization, Dropout\n",
    "from tensorflow.keras import optimizers\n",
    "from sklearn.metrics import precision_score,recall_score, accuracy_score,confusion_matrix,f1_score\n",
    "from tensorflow import feature_column\n",
    "from tensorflow.keras import layers\n",
    "from tensorflow.keras import optimizers\n",
    "\n",
    "import pandas as pd\n",
    "\n"
   ]
  },
  {
   "cell_type": "code",
   "execution_count": null,
   "id": "af88fd0a",
   "metadata": {},
   "outputs": [],
   "source": []
  },
  {
   "cell_type": "code",
   "execution_count": 51,
   "id": "1348b851",
   "metadata": {
    "ExecuteTime": {
     "end_time": "2021-07-16T00:06:11.582964Z",
     "start_time": "2021-07-16T00:06:11.225752Z"
    }
   },
   "outputs": [],
   "source": [
    "\n",
    "file_out = pd.read_csv('adult_processed.csv')\n",
    "cols = []\n",
    "for i in list(file_out.columns):\n",
    "    if  i != 'income':\n",
    "        cols.append(i)\n",
    "feature_set1 = pd.read_csv('train.csv')\n",
    "feature_set2 = pd.read_csv('test.csv')\n",
    "\n",
    "\n",
    "\n",
    "x = feature_set1[cols].copy().values\n",
    "y = feature_set1[['income']].copy().values\n",
    "        \n",
    "sc = StandardScaler()\n",
    "X_train = sc.fit_transform(x)\n",
    "y_train = y\n",
    "\n",
    "\n",
    "x2 = feature_set2[cols].copy().values\n",
    "y2 = feature_set2[['income']].copy().values\n",
    "\n",
    "\n",
    "X_test = sc.transform(x2)\n",
    "y_test = y2\n"
   ]
  },
  {
   "cell_type": "code",
   "execution_count": 52,
   "id": "45e42764",
   "metadata": {
    "ExecuteTime": {
     "end_time": "2021-07-16T00:06:11.620247Z",
     "start_time": "2021-07-16T00:06:11.584276Z"
    }
   },
   "outputs": [
    {
     "name": "stdout",
     "output_type": "stream",
     "text": [
      "Model: \"sequential_10\"\n",
      "_________________________________________________________________\n",
      "Layer (type)                 Output Shape              Param #   \n",
      "=================================================================\n",
      "dense_50 (Dense)             (None, 128)               12160     \n",
      "_________________________________________________________________\n",
      "dense_51 (Dense)             (None, 128)               16512     \n",
      "_________________________________________________________________\n",
      "dense_52 (Dense)             (None, 64)                8256      \n",
      "_________________________________________________________________\n",
      "dense_53 (Dense)             (None, 32)                2080      \n",
      "_________________________________________________________________\n",
      "dense_54 (Dense)             (None, 1)                 33        \n",
      "=================================================================\n",
      "Total params: 39,041\n",
      "Trainable params: 39,041\n",
      "Non-trainable params: 0\n",
      "_________________________________________________________________\n"
     ]
    }
   ],
   "source": [
    "def build_nn_model(metric = \"accuracy\", learning_rate = 0.005):\n",
    "    \n",
    "    model = Sequential()\n",
    "    \n",
    "#     model.add(Dense(32, input_shape = (X_train.shape[1],)))\n",
    "#     model.add(Dense(64, Activation(\"relu\")))\n",
    "#     model.add(Dense(128, Activation(\"relu\")))\n",
    "#     model.add(Dense(128, Activation(\"relu\")))\n",
    "#     model.add(Dense(1))\n",
    "    \n",
    "    model.add(Dense(128, input_shape = (X_train.shape[1],)))\n",
    "    model.add(Dense(128, Activation(\"tanh\")))\n",
    "    model.add(Dense(64, Activation(\"tanh\")))\n",
    "    model.add(Dense(32, Activation(\"tanh\")))\n",
    "    model.add(Dense(1,Activation('sigmoid')))\n",
    "\n",
    "    \n",
    "    \n",
    "    \n",
    "#     learning_rate = learning_rate\n",
    "    optimizer = optimizers.Adam(learning_rate)\n",
    "    model.compile(loss = tf.keras.losses.BinaryCrossentropy(from_logits = False),\n",
    "                 optimizer = optimizer,\n",
    "                 metrics = [metric])\n",
    "    \n",
    "    return model\n",
    "\n",
    "model = build_nn_model(metric = \"binary_accuracy\")\n",
    "model.summary()"
   ]
  },
  {
   "cell_type": "code",
   "execution_count": 53,
   "id": "488512e7",
   "metadata": {
    "ExecuteTime": {
     "end_time": "2021-07-16T00:07:34.217158Z",
     "start_time": "2021-07-16T00:06:11.642850Z"
    }
   },
   "outputs": [
    {
     "name": "stdout",
     "output_type": "stream",
     "text": [
      "Epoch 1/30\n",
      "2443/2443 [==============================] - 3s 1ms/step - loss: 0.3611 - binary_accuracy: 0.8337 - val_loss: 0.3470 - val_binary_accuracy: 0.8423\n",
      "Epoch 2/30\n",
      "2443/2443 [==============================] - 3s 1ms/step - loss: 0.3425 - binary_accuracy: 0.8407 - val_loss: 0.3371 - val_binary_accuracy: 0.8396\n",
      "Epoch 3/30\n",
      "2443/2443 [==============================] - 3s 1ms/step - loss: 0.3405 - binary_accuracy: 0.8432 - val_loss: 0.3387 - val_binary_accuracy: 0.8459\n",
      "Epoch 4/30\n",
      "2443/2443 [==============================] - 3s 1ms/step - loss: 0.3410 - binary_accuracy: 0.8430 - val_loss: 0.3325 - val_binary_accuracy: 0.8437\n",
      "Epoch 5/30\n",
      "2443/2443 [==============================] - 3s 1ms/step - loss: 0.3385 - binary_accuracy: 0.8449 - val_loss: 0.3350 - val_binary_accuracy: 0.8470\n",
      "Epoch 6/30\n",
      "2443/2443 [==============================] - 3s 1ms/step - loss: 0.3372 - binary_accuracy: 0.8450 - val_loss: 0.3344 - val_binary_accuracy: 0.8460\n",
      "Epoch 7/30\n",
      "2443/2443 [==============================] - 3s 1ms/step - loss: 0.3373 - binary_accuracy: 0.8442 - val_loss: 0.3321 - val_binary_accuracy: 0.8490\n",
      "Epoch 8/30\n",
      "2443/2443 [==============================] - 3s 1ms/step - loss: 0.3350 - binary_accuracy: 0.8459 - val_loss: 0.3448 - val_binary_accuracy: 0.8332\n",
      "Epoch 9/30\n",
      "2443/2443 [==============================] - 3s 1ms/step - loss: 0.3379 - binary_accuracy: 0.8439 - val_loss: 0.3379 - val_binary_accuracy: 0.8431\n",
      "Epoch 10/30\n",
      "2443/2443 [==============================] - 3s 1ms/step - loss: 0.3369 - binary_accuracy: 0.8458 - val_loss: 0.3368 - val_binary_accuracy: 0.8460\n",
      "Epoch 11/30\n",
      "2443/2443 [==============================] - 3s 1ms/step - loss: 0.3364 - binary_accuracy: 0.8441 - val_loss: 0.3383 - val_binary_accuracy: 0.8475\n",
      "Epoch 12/30\n",
      "2443/2443 [==============================] - 3s 1ms/step - loss: 0.3396 - binary_accuracy: 0.8451 - val_loss: 0.3392 - val_binary_accuracy: 0.8456\n",
      "Epoch 13/30\n",
      "2443/2443 [==============================] - 3s 1ms/step - loss: 0.3408 - binary_accuracy: 0.8441 - val_loss: 0.3397 - val_binary_accuracy: 0.8455\n",
      "Epoch 14/30\n",
      "2443/2443 [==============================] - 3s 1ms/step - loss: 0.3419 - binary_accuracy: 0.8440 - val_loss: 0.3397 - val_binary_accuracy: 0.8437\n",
      "Epoch 15/30\n",
      "2443/2443 [==============================] - 3s 1ms/step - loss: 0.3408 - binary_accuracy: 0.8449 - val_loss: 0.3366 - val_binary_accuracy: 0.8484\n",
      "Epoch 16/30\n",
      "2443/2443 [==============================] - 3s 1ms/step - loss: 0.3432 - binary_accuracy: 0.8430 - val_loss: 0.3387 - val_binary_accuracy: 0.8465\n",
      "Epoch 17/30\n",
      "2443/2443 [==============================] - 3s 1ms/step - loss: 0.3385 - binary_accuracy: 0.8446 - val_loss: 0.3346 - val_binary_accuracy: 0.8472\n",
      "Epoch 18/30\n",
      "2443/2443 [==============================] - 3s 1ms/step - loss: 0.3389 - binary_accuracy: 0.8443 - val_loss: 0.3371 - val_binary_accuracy: 0.8477\n",
      "Epoch 19/30\n",
      "2443/2443 [==============================] - 3s 1ms/step - loss: 0.3376 - binary_accuracy: 0.8449 - val_loss: 0.3352 - val_binary_accuracy: 0.8452\n",
      "Epoch 20/30\n",
      "2443/2443 [==============================] - 3s 1ms/step - loss: 0.3397 - binary_accuracy: 0.8447 - val_loss: 0.3347 - val_binary_accuracy: 0.8465\n",
      "Epoch 21/30\n",
      "2443/2443 [==============================] - 3s 1ms/step - loss: 0.3383 - binary_accuracy: 0.8420 - val_loss: 0.3413 - val_binary_accuracy: 0.8437\n",
      "Epoch 22/30\n",
      "2443/2443 [==============================] - 3s 1ms/step - loss: 0.3406 - binary_accuracy: 0.8413 - val_loss: 0.3381 - val_binary_accuracy: 0.8435\n",
      "Epoch 23/30\n",
      "2443/2443 [==============================] - 3s 1ms/step - loss: 0.3375 - binary_accuracy: 0.8431 - val_loss: 0.3326 - val_binary_accuracy: 0.8449\n",
      "Epoch 24/30\n",
      "2443/2443 [==============================] - 3s 1ms/step - loss: 0.3376 - binary_accuracy: 0.8456 - val_loss: 0.3408 - val_binary_accuracy: 0.8450\n",
      "Epoch 25/30\n",
      "2443/2443 [==============================] - 3s 1ms/step - loss: 0.3412 - binary_accuracy: 0.8424 - val_loss: 0.3334 - val_binary_accuracy: 0.8460\n",
      "Epoch 26/30\n",
      "2443/2443 [==============================] - 3s 1ms/step - loss: 0.3389 - binary_accuracy: 0.8442 - val_loss: 0.3361 - val_binary_accuracy: 0.8454\n",
      "Epoch 27/30\n",
      "2443/2443 [==============================] - 3s 1ms/step - loss: 0.3383 - binary_accuracy: 0.8455 - val_loss: 0.3347 - val_binary_accuracy: 0.8459\n",
      "Epoch 28/30\n",
      "2443/2443 [==============================] - 3s 1ms/step - loss: 0.3393 - binary_accuracy: 0.8464 - val_loss: 0.3359 - val_binary_accuracy: 0.8470\n",
      "Epoch 29/30\n",
      "2443/2443 [==============================] - 3s 1ms/step - loss: 0.3376 - binary_accuracy: 0.8474 - val_loss: 0.3319 - val_binary_accuracy: 0.8497\n",
      "Epoch 30/30\n",
      "2443/2443 [==============================] - 3s 1ms/step - loss: 0.3376 - binary_accuracy: 0.8466 - val_loss: 0.3361 - val_binary_accuracy: 0.8466\n"
     ]
    }
   ],
   "source": [
    "EPOCHS = 30\n",
    "batch_size = 16\n",
    "\n",
    "\n",
    "history = model.fit(\n",
    "    X_train,\n",
    "    y_train,\n",
    "    batch_size = batch_size, \n",
    "    epochs = EPOCHS,\n",
    "    verbose = 1,\n",
    "    validation_data = (X_train,y_train))"
   ]
  },
  {
   "cell_type": "code",
   "execution_count": 54,
   "id": "cf274727",
   "metadata": {
    "ExecuteTime": {
     "end_time": "2021-07-16T00:07:34.422453Z",
     "start_time": "2021-07-16T00:07:34.218688Z"
    }
   },
   "outputs": [
    {
     "name": "stdout",
     "output_type": "stream",
     "text": [
      "306/306 [==============================] - 0s 544us/step - loss: 0.3357 - binary_accuracy: 0.8446\n"
     ]
    },
    {
     "data": {
      "text/plain": [
       "[0.33570414781570435, 0.8445945978164673]"
      ]
     },
     "execution_count": 54,
     "metadata": {},
     "output_type": "execute_result"
    }
   ],
   "source": [
    "score = model.evaluate(X_test, y_test)\n",
    "score"
   ]
  },
  {
   "cell_type": "code",
   "execution_count": 55,
   "id": "01b3e9ae",
   "metadata": {
    "ExecuteTime": {
     "end_time": "2021-07-16T00:07:34.604712Z",
     "start_time": "2021-07-16T00:07:34.424171Z"
    }
   },
   "outputs": [
    {
     "name": "stdout",
     "output_type": "stream",
     "text": [
      "Precision = 0.699746835443038\n",
      "Recall = 0.5990463805808409\n",
      "Accuracy = 0.8445945945945946\n"
     ]
    }
   ],
   "source": [
    "nn_preds = model.predict(X_test)\n",
    "nn_preds = (nn_preds > 0.5)\n",
    "\n",
    "nn_precision =precision_score(y_test, nn_preds)\n",
    "nn_recall = recall_score(y_test, nn_preds)\n",
    "nn_accuracy = accuracy_score(y_test, nn_preds)\n",
    "\n",
    "print(\"Precision = {}\".format(nn_precision))\n",
    "print(\"Recall = {}\".format(nn_recall))\n",
    "print(\"Accuracy = {}\".format(nn_accuracy))"
   ]
  },
  {
   "cell_type": "code",
   "execution_count": null,
   "id": "9fbf09db",
   "metadata": {},
   "outputs": [],
   "source": []
  },
  {
   "cell_type": "code",
   "execution_count": null,
   "id": "eb89c6ff",
   "metadata": {},
   "outputs": [],
   "source": []
  },
  {
   "cell_type": "code",
   "execution_count": null,
   "id": "fca6b760",
   "metadata": {},
   "outputs": [],
   "source": []
  },
  {
   "cell_type": "code",
   "execution_count": null,
   "id": "36db1f2a",
   "metadata": {},
   "outputs": [],
   "source": []
  },
  {
   "cell_type": "code",
   "execution_count": null,
   "id": "dc99b117",
   "metadata": {},
   "outputs": [],
   "source": []
  },
  {
   "cell_type": "code",
   "execution_count": null,
   "id": "4aaef098",
   "metadata": {},
   "outputs": [],
   "source": []
  },
  {
   "cell_type": "code",
   "execution_count": null,
   "id": "dbba5182",
   "metadata": {},
   "outputs": [],
   "source": []
  }
 ],
 "metadata": {
  "hide_input": false,
  "kernelspec": {
   "display_name": "Python 3",
   "language": "python",
   "name": "python3"
  },
  "language_info": {
   "codemirror_mode": {
    "name": "ipython",
    "version": 3
   },
   "file_extension": ".py",
   "mimetype": "text/x-python",
   "name": "python",
   "nbconvert_exporter": "python",
   "pygments_lexer": "ipython3",
   "version": "3.6.9"
  },
  "toc": {
   "base_numbering": 1,
   "nav_menu": {},
   "number_sections": true,
   "sideBar": true,
   "skip_h1_title": false,
   "title_cell": "Table of Contents",
   "title_sidebar": "Contents",
   "toc_cell": false,
   "toc_position": {},
   "toc_section_display": true,
   "toc_window_display": false
  }
 },
 "nbformat": 4,
 "nbformat_minor": 5
}
